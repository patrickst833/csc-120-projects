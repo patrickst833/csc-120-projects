{
 "cells": [
  {
   "cell_type": "code",
   "execution_count": 85,
   "id": "ed276d98-18d5-494c-bbb5-77874dcca1fc",
   "metadata": {},
   "outputs": [
    {
     "name": "stdin",
     "output_type": "stream",
     "text": [
      "Enter the temperature in Celsius:  20\n"
     ]
    },
    {
     "name": "stdout",
     "output_type": "stream",
     "text": [
      "The temperature in Fahrenheit is: 68.0\n"
     ]
    }
   ],
   "source": [
    "# Question 1\n",
    "\n",
    "celsiustemp = float(input(\"Enter the temperature in Celsius: \"))\n",
    "\n",
    "fahrenheittemp = (celsiustemp*9/5)+32\n",
    "\n",
    "print(\"The temperature in Fahrenheit is:\",fahrenheittemp)"
   ]
  },
  {
   "cell_type": "code",
   "execution_count": 86,
   "id": "e98934fd-f081-450f-81aa-a51e6e110901",
   "metadata": {},
   "outputs": [
    {
     "name": "stdout",
     "output_type": "stream",
     "text": [
      "The sum of numbers is: 30\n",
      "The mean of numbers is: 6.0\n"
     ]
    }
   ],
   "source": [
    "# Question 2\n",
    "\n",
    "num1 = 2\n",
    "num2 = 4\n",
    "num3 = 6\n",
    "num4 = 8\n",
    "num5 = 10\n",
    "\n",
    "sum = (num1 + num2 +num3 +num4 +num5)\n",
    "mean = (num1 + num2 +num3 +num4 +num5)/5\n",
    "\n",
    "print(\"The sum of numbers is:\", sum)\n",
    "print(\"The mean of numbers is:\", mean)"
   ]
  },
  {
   "cell_type": "code",
   "execution_count": 87,
   "id": "1ccff87b-c5af-4cf2-a688-edd34397e586",
   "metadata": {},
   "outputs": [
    {
     "name": "stdin",
     "output_type": "stream",
     "text": [
      "Enter first number:  20\n",
      "Enter second number:  30\n"
     ]
    },
    {
     "name": "stdout",
     "output_type": "stream",
     "text": [
      "35000\n"
     ]
    }
   ],
   "source": [
    "# Question 3\n",
    "\n",
    "value1 = input(\"Enter first number: \")\n",
    "value2 = input(\"Enter second number: \")\n",
    "\n",
    "total = int(value1)**3 + int(value2)**3\n",
    "\n",
    "print(total)"
   ]
  },
  {
   "cell_type": "code",
   "execution_count": 88,
   "id": "a42845ce-fdf8-4cda-b0ed-861d9aab26e2",
   "metadata": {},
   "outputs": [
    {
     "name": "stdin",
     "output_type": "stream",
     "text": [
      "Enter the principle amount: 1500\n",
      "Enter the time(years): 10\n",
      "Enter the rate: 4\n"
     ]
    },
    {
     "name": "stdout",
     "output_type": "stream",
     "text": [
      "The simple interest is: 600.0\n"
     ]
    }
   ],
   "source": [
    "# Question 4\n",
    "\n",
    "p=float(input(\"Enter the principle amount:\"))\n",
    "t=int(input(\"Enter the time(years):\"))\n",
    "r=float(input(\"Enter the rate:\"))\n",
    "simpleinterest=(p*r*t)/100\n",
    "print(\"The simple interest is:\", simpleinterest)\n"
   ]
  },
  {
   "cell_type": "code",
   "execution_count": 89,
   "id": "b8af03bc-b226-4586-b13e-8130624151de",
   "metadata": {},
   "outputs": [
    {
     "name": "stdin",
     "output_type": "stream",
     "text": [
      "Input the radius of the circle: 3\n"
     ]
    },
    {
     "name": "stdout",
     "output_type": "stream",
     "text": [
      "The area of the circle is: 28.274333882308138\n"
     ]
    }
   ],
   "source": [
    "# Question 5\n",
    "\n",
    "r=float(input(\"Input the radius of the circle:\"))\n",
    "\n",
    "import math\n",
    "\n",
    "area=(math.pi)*r**2\n",
    "\n",
    "print(\"The area of the circle is:\",area)"
   ]
  },
  {
   "cell_type": "code",
   "execution_count": 91,
   "id": "9bc22d59-f65f-47ee-81f2-03634ca05305",
   "metadata": {},
   "outputs": [
    {
     "name": "stdin",
     "output_type": "stream",
     "text": [
      "Enter number of days 3\n"
     ]
    },
    {
     "name": "stdout",
     "output_type": "stream",
     "text": [
      "hours= 72\n",
      "minutes= 4320\n",
      "seconds= 259200\n"
     ]
    }
   ],
   "source": [
    "# Question 6\n",
    "\n",
    "day=int(input(\"Enter number of days\"))\n",
    "hours=24*day\n",
    "minutes=60*hours\n",
    "seconds=60*minutes\n",
    "print(\"hours=\",hours)\n",
    "print(\"minutes=\",minutes)\n",
    "print(\"seconds=\", seconds)\n"
   ]
  },
  {
   "cell_type": "code",
   "execution_count": 92,
   "id": "ec095b02-6fb2-40e3-b2a9-09942e3bef4f",
   "metadata": {},
   "outputs": [
    {
     "name": "stdin",
     "output_type": "stream",
     "text": [
      "Please enter your hourly wage:  20\n"
     ]
    },
    {
     "name": "stdout",
     "output_type": "stream",
     "text": [
      "Hourly wage: \n",
      "20\n",
      "Hours worked: \n",
      "40\n"
     ]
    },
    {
     "name": "stdin",
     "output_type": "stream",
     "text": [
      "How many hours did you work this week?  40\n"
     ]
    }
   ],
   "source": [
    "# Question 7\n",
    "\n",
    "hourly_wage = input(\"Please enter your hourly wage: \")\n",
    "\n",
    "print(\"Hourly wage: \")\n",
    "print(hourly_wage)\n",
    "print(\"Hours worked: \")\n",
    "print(hours_worked)\n",
    "\n",
    "hours_worked = input(\"How many hours did you work this week? \")\n"
   ]
  },
  {
   "cell_type": "code",
   "execution_count": 98,
   "id": "cde1cb3b-787c-422e-81ab-2c976fae470a",
   "metadata": {},
   "outputs": [
    {
     "name": "stdin",
     "output_type": "stream",
     "text": [
      "Enter the Width:  17\n",
      "Enter the Height:  12.0\n"
     ]
    },
    {
     "name": "stdout",
     "output_type": "stream",
     "text": [
      "Value is:  8.0 and type is: <class 'float'>\n",
      "Value is : 8.5 and type is: <class 'float'>\n",
      "Value is : 4.0 and type is: <class 'float'>\n",
      "Value is : 11 and type is: <class 'int'>\n"
     ]
    }
   ],
   "source": [
    "# Question 8\n",
    "\n",
    "width=float(input(\"Enter the Width: \"))\n",
    "height=float(input(\"Enter the Height: \"))\n",
    "\n",
    "print(\"Value is: \" ,width // 2, \"and type is:\" ,type(width//2))\n",
    "print(\"Value is :\" ,width / 2.0 ,\"and type is:\" ,type(width / 2.0))\n",
    "print(\"Value is :\" ,height / 3 ,\"and type is:\" ,type(width / 3))\n",
    "print(\"Value is :\" ,1 + 2 * 5,\"and type is:\" ,type(1 + 2 * 5))"
   ]
  },
  {
   "cell_type": "code",
   "execution_count": 97,
   "id": "5e7f02be-ab2f-4ef8-b8ba-a439360ba8de",
   "metadata": {},
   "outputs": [
    {
     "name": "stdin",
     "output_type": "stream",
     "text": [
      "Enter your weight(lbs):  165\n",
      "Enter your height(inches):  71\n"
     ]
    },
    {
     "name": "stdout",
     "output_type": "stream",
     "text": [
      "BMI = 23.01031541360841\n"
     ]
    }
   ],
   "source": [
    "# Question 9\n",
    "\n",
    "weight=float(input(\"Enter your weight(lbs): \"))\n",
    "height=float(input(\"Enter your height(inches): \"))\n",
    "BMI=(weight/(height**2))*703\n",
    "\n",
    "print(\"BMI =\",BMI)"
   ]
  },
  {
   "cell_type": "code",
   "execution_count": 96,
   "id": "a780e4cf-af15-4a5c-9019-6a510ff76159",
   "metadata": {},
   "outputs": [
    {
     "name": "stdin",
     "output_type": "stream",
     "text": [
      "Your name Patrick\n"
     ]
    },
    {
     "name": "stdout",
     "output_type": "stream",
     "text": [
      "Welcome to Python programming Patrick\n"
     ]
    }
   ],
   "source": [
    "# Question 10\n",
    "\n",
    "name = input(\"Your name\")\n",
    "print(\"Welcome to Python programming\",name)"
   ]
  }
 ],
 "metadata": {
  "kernelspec": {
   "display_name": "Python 3 (ipykernel)",
   "language": "python",
   "name": "python3"
  },
  "language_info": {
   "codemirror_mode": {
    "name": "ipython",
    "version": 3
   },
   "file_extension": ".py",
   "mimetype": "text/x-python",
   "name": "python",
   "nbconvert_exporter": "python",
   "pygments_lexer": "ipython3",
   "version": "3.12.5"
  }
 },
 "nbformat": 4,
 "nbformat_minor": 5
}
